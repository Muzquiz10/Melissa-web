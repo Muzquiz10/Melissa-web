{
 "cells": [
  {
   "cell_type": "code",
   "execution_count": 4,
   "metadata": {},
   "outputs": [],
   "source": [
    "import html as html"
   ]
  },
  {
   "cell_type": "code",
   "execution_count": 6,
   "metadata": {},
   "outputs": [],
   "source": [
    "html_string = \"\"\"\n",
    "<!DOCTYPE html>\n",
    "<html>\n",
    "    <head>\n",
    "        <meta charset=\"utf-8\"/>\n",
    "        <title>\n",
    "          Melisa  Celebraciones\n",
    "        </title>\n",
    "    </head>\n",
    "    <body>\n",
    "        <div style=\"background-image: url(https://e00-expansion.uecdn.es/assets/multimedia/imagenes/2022/07/26/16588301170836.jpg)\"\n",
    "        \n",
    "        <h1>Bienvenido a Melissa Celebraciones</h1>\n",
    "        <h2><b>Aquí encontrarás nuestro book</b></h2>\n",
    "        <ul>\n",
    "            <li>\n",
    "                <a href=\"web.html\">Inicio</a>\n",
    "            </li>\n",
    "            <li>\n",
    "                <a href=\"contacto.html\">Contacto</a>\n",
    "            </li>\n",
    "        </ul>\n",
    "\n",
    "        <p>Párrafo 1</p>\n",
    "        <p>Párrafo 2</p>\n",
    "        <p>Párrafo con salto de línea<br/> siguiente párrafo</p>\n",
    "        <p>Párrafo con 2 saltos de línea<br/><br/> siguiente párrafo</p>\n",
    "    <hr>\n",
    "    <h2>Lista objetos</h2>\n",
    "    <ul>\n",
    "        <li>Flores</li>\n",
    "        <li>Cuadros</li>\n",
    "        <li>peluches</li>\n",
    "    </ol>\n",
    "    <ol>Lista objetos ordenada\n",
    "        <li>Flores</li>\n",
    "        <li>Cuadros</li>\n",
    "        <li>peluches</li>\n",
    "\n",
    "    </ol>\n",
    "    <hr/>\n",
    "    <h2>Imágenes</h2>\n",
    "    <h1>Imagen con url</h1>\n",
    "    <img width=\"150\" alt=\"un perros\" src=\"https://www.fundacion-affinity.org/sites/default/files/los-10-sonidos-principales-del-perro.jpg\"/><br><br>\n",
    "    <hr> \n",
    "    <h1>Imagen desde local</h1>\n",
    "    <img width=\"150\" alt=\"SQL\" src=\"img/sql.png\"\n",
    "\n",
    "\n",
    "\n",
    "    </body>\n",
    "</html>\n",
    "\"\"\""
   ]
  },
  {
   "cell_type": "code",
   "execution_count": 9,
   "metadata": {},
   "outputs": [
    {
     "name": "stdout",
     "output_type": "stream",
     "text": [
      "<!DOCTYPE html>\n",
      "<html>\n",
      "    <head>\n",
      "        <meta charset=\"utf-8\"/>\n",
      "        <title>\n",
      "          Melisa  Celebraciones\n",
      "        </title>\n",
      "    </head>\n",
      "    <body >\n",
      "        <div style=\"background-color: cornsilk\">\n",
      "        \n",
      "        <h1>Página de contacto</h1>\n",
      "        <ul>\n",
      "            <li>\n",
      "                <a href=\"Index.html\">Inicio</a>\n",
      "            </li>\n",
      "            <li>\n",
      "                <a href=\"contacto.html\">Contacto</a>\n",
      "            </li>\n",
      "        </ul>\n",
      "        <h1>Tablas</h1>\n",
      "        <table border= \"1\">\n",
      "            <tr>\n",
      "                <td>Nombre</td>\n",
      "                <td>Apellidos</td>\n",
      "                <td>Web</td>\n",
      "            </tr>\n",
      "            <tr>\n",
      "                <td>Maria del Carmen</td>\n",
      "                <td>Múzquiz Valoria</td>\n",
      "                <td>Melissa Celebraciones</td>\n",
      "            </tr>\n",
      "            <tr>\n",
      "                <td>Isabel</td>\n",
      "                <td>Díaz</td>\n",
      "                <td>Melissa Celebraciones</td>\n",
      "            </tr>\n",
      "            <tr>\n",
      "                <td>Enrique</td>\n",
      "                <td>García Múzquiz</td>\n",
      "                <td>Web creator</td>\n",
      "            </tr>\n",
      "\n",
      "        </table>\n",
      "        <h1>formulario</h1>\n",
      "            <p>Formulario de contacto</p>\n",
      "            <form>\n",
      "                <label>Nombre</label>\n",
      "                <input type=\"text\"/>\n",
      "                <label>Apellidos</label>\n",
      "                <input type=\"text\"/><br/><br/>\n",
      "                <label>Año nacimiento</label>\n",
      "                <input type=\"number\"/> <br/><br/>\n",
      "            \n",
      "\n",
      "            <select>\n",
      "              <option value=\"Hombre\">Hombre</option>  \n",
      "              <option value=\"Mujer\">Mujer</option>\n",
      "            </select>\n",
      "            <input type=\"submit\" value=\"Enviar\" />\n",
      "\n",
      "        </form>\n",
      "        \n",
      "   \n",
      "\n",
      "\n",
      "   \n",
      "    </body>\n",
      "    \n",
      "</html>\n"
     ]
    }
   ],
   "source": [
    "fname=\"contacto.html\"\n",
    "html_file = open(fname,'r',encoding='utf-8')\n",
    "source_code=html_file.read()\n",
    "print(source_code)"
   ]
  },
  {
   "cell_type": "code",
   "execution_count": 7,
   "metadata": {},
   "outputs": [
    {
     "ename": "FileNotFoundError",
     "evalue": "[Errno 2] No such file or directory: 'html_file.html'",
     "output_type": "error",
     "traceback": [
      "\u001b[1;31m---------------------------------------------------------------------------\u001b[0m",
      "\u001b[1;31mFileNotFoundError\u001b[0m                         Traceback (most recent call last)",
      "\u001b[1;32m~\\AppData\\Local\\Temp\\ipykernel_20204\\2763296855.py\u001b[0m in \u001b[0;36m<module>\u001b[1;34m\u001b[0m\n\u001b[1;32m----> 1\u001b[1;33m \u001b[1;32mwith\u001b[0m \u001b[0mopen\u001b[0m\u001b[1;33m(\u001b[0m\u001b[1;34m'html_file.html'\u001b[0m\u001b[1;33m,\u001b[0m\u001b[1;34m'r'\u001b[0m\u001b[1;33m)\u001b[0m \u001b[1;32mas\u001b[0m \u001b[0mf\u001b[0m\u001b[1;33m:\u001b[0m\u001b[1;33m\u001b[0m\u001b[1;33m\u001b[0m\u001b[0m\n\u001b[0m\u001b[0;32m      2\u001b[0m     \u001b[0mhtml_string\u001b[0m \u001b[1;33m=\u001b[0m \u001b[0mf\u001b[0m\u001b[1;33m.\u001b[0m\u001b[0mread\u001b[0m\u001b[1;33m(\u001b[0m\u001b[1;33m)\u001b[0m\u001b[1;33m\u001b[0m\u001b[1;33m\u001b[0m\u001b[0m\n",
      "\u001b[1;31mFileNotFoundError\u001b[0m: [Errno 2] No such file or directory: 'html_file.html'"
     ]
    }
   ],
   "source": [
    "with open('html_file.html','r') as f:\n",
    "    html_string = f.read()"
   ]
  },
  {
   "cell_type": "code",
   "execution_count": null,
   "metadata": {},
   "outputs": [],
   "source": []
  }
 ],
 "metadata": {
  "kernelspec": {
   "display_name": "Python 3.7.4 64-bit",
   "language": "python",
   "name": "python3"
  },
  "language_info": {
   "codemirror_mode": {
    "name": "ipython",
    "version": 3
   },
   "file_extension": ".py",
   "mimetype": "text/x-python",
   "name": "python",
   "nbconvert_exporter": "python",
   "pygments_lexer": "ipython3",
   "version": "3.7.4"
  },
  "orig_nbformat": 4,
  "vscode": {
   "interpreter": {
    "hash": "0a4f7f40643ff7e7f61c19d650a71527d945ac73071459a0e8b7f5c20978160f"
   }
  }
 },
 "nbformat": 4,
 "nbformat_minor": 2
}
